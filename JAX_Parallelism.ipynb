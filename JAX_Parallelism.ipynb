{
  "nbformat": 4,
  "nbformat_minor": 0,
  "metadata": {
    "colab": {
      "provenance": []
    },
    "kernelspec": {
      "name": "python3",
      "display_name": "Python 3"
    },
    "language_info": {
      "name": "python"
    }
  },
  "cells": [
    {
      "cell_type": "code",
      "execution_count": 3,
      "metadata": {
        "id": "k3YU8MBtGw5F"
      },
      "outputs": [],
      "source": [
        "import jax\n",
        "import jax.numpy as jnp\n",
        "import numpy as np\n",
        "\n",
        "from jax import grad, jit, vmap, pmap\n",
        "\n",
        "from jax import random\n",
        "import matplotlib.pyplot as plt\n",
        "from copy import deepcopy\n",
        "from typing import Tuple, NamedTuple\n",
        "import functools"
      ]
    },
    {
      "cell_type": "markdown",
      "source": [
        "### Parallelism in JAX\n",
        "Parallelism in JAX is handled by another fundamental transform function: pmap"
      ],
      "metadata": {
        "id": "FhTp8JEyQcW9"
      }
    },
    {
      "cell_type": "code",
      "source": [
        "jax.devices()"
      ],
      "metadata": {
        "colab": {
          "base_uri": "https://localhost:8080/"
        },
        "id": "Eoyy0vJdQgLr",
        "outputId": "07afbefb-c351-4b93-c4ce-3292533ffc44"
      },
      "execution_count": null,
      "outputs": [
        {
          "output_type": "execute_result",
          "data": {
            "text/plain": [
              "[TpuDevice(id=0, process_index=0, coords=(0,0,0), core_on_chip=0),\n",
              " TpuDevice(id=1, process_index=0, coords=(0,0,0), core_on_chip=1),\n",
              " TpuDevice(id=2, process_index=0, coords=(1,0,0), core_on_chip=0),\n",
              " TpuDevice(id=3, process_index=0, coords=(1,0,0), core_on_chip=1),\n",
              " TpuDevice(id=4, process_index=0, coords=(0,1,0), core_on_chip=0),\n",
              " TpuDevice(id=5, process_index=0, coords=(0,1,0), core_on_chip=1),\n",
              " TpuDevice(id=6, process_index=0, coords=(1,1,0), core_on_chip=0),\n",
              " TpuDevice(id=7, process_index=0, coords=(1,1,0), core_on_chip=1)]"
            ]
          },
          "metadata": {},
          "execution_count": 2
        }
      ]
    },
    {
      "cell_type": "code",
      "source": [
        "# Let's use a simple running example here\n",
        "x = np.arange(5)  # signal\n",
        "w = np.array([2., 3., 4.])  # window/kernel\n",
        "\n",
        "def convolve(w, x):  # implementation of 1D convolution/correlation\n",
        "    output = []\n",
        "\n",
        "    for i in range(1, len(x)-1):\n",
        "        output.append(jnp.dot(x[i-1:i+2], w))\n",
        "\n",
        "    return jnp.array(output)\n",
        "\n",
        "result = convolve(w, x)\n",
        "print(repr(result))\n"
      ],
      "metadata": {
        "colab": {
          "base_uri": "https://localhost:8080/"
        },
        "id": "IaCr3bAxQnVS",
        "outputId": "a32bdb03-49c6-4399-9361-3be24446e8b1"
      },
      "execution_count": null,
      "outputs": [
        {
          "output_type": "stream",
          "name": "stdout",
          "text": [
            "Array([11., 20., 29.], dtype=float32)\n"
          ]
        }
      ]
    },
    {
      "cell_type": "code",
      "source": [
        "n_devices = jax.local_device_count()\n",
        "print(f'Number of available devices: {n_devices}')\n",
        "\n",
        "# Let's now imagine we have a much heavier load (a batch of examples)\n",
        "xs = np.arange(5 * n_devices).reshape(-1, 5)\n",
        "ws = np.stack([w] * n_devices)\n",
        "\n",
        "print(xs.shape, ws.shape)"
      ],
      "metadata": {
        "colab": {
          "base_uri": "https://localhost:8080/"
        },
        "id": "vSlyBFRvQ_jS",
        "outputId": "c4448ef7-82bd-4213-9359-c4245a02454b"
      },
      "execution_count": null,
      "outputs": [
        {
          "output_type": "stream",
          "name": "stdout",
          "text": [
            "Number of available devices: 8\n",
            "(8, 5) (8, 3)\n"
          ]
        }
      ]
    },
    {
      "cell_type": "code",
      "source": [
        "# First way to optimize this is to simply use vmap\n",
        "vmap_result = jax.vmap(convolve)(ws, xs)\n",
        "print(repr(vmap_result))"
      ],
      "metadata": {
        "colab": {
          "base_uri": "https://localhost:8080/"
        },
        "id": "wtNsGQ_sRCfh",
        "outputId": "b5cbf591-66aa-407c-b0bb-2293e7504034"
      },
      "execution_count": null,
      "outputs": [
        {
          "output_type": "stream",
          "name": "stdout",
          "text": [
            "Array([[ 11.,  20.,  29.],\n",
            "       [ 56.,  65.,  74.],\n",
            "       [101., 110., 119.],\n",
            "       [146., 155., 164.],\n",
            "       [191., 200., 209.],\n",
            "       [236., 245., 254.],\n",
            "       [281., 290., 299.],\n",
            "       [326., 335., 344.]], dtype=float32)\n"
          ]
        }
      ]
    },
    {
      "cell_type": "code",
      "source": [
        "#The amazing thing is if you just swap vmap for pmap you are now running on multiple\n",
        "# devices.\n",
        "pmap_result = jax.pmap(convolve)(ws, xs)\n",
        "print(repr(pmap_result))  # ShardedDeviceArray!"
      ],
      "metadata": {
        "colab": {
          "base_uri": "https://localhost:8080/"
        },
        "id": "2U5k6qhfRRNK",
        "outputId": "d232f57b-f09b-44cb-e548-ed987b682692"
      },
      "execution_count": null,
      "outputs": [
        {
          "output_type": "stream",
          "name": "stdout",
          "text": [
            "Array([[ 11.,  20.,  29.],\n",
            "       [ 56.,  65.,  74.],\n",
            "       [101., 110., 119.],\n",
            "       [146., 155., 164.],\n",
            "       [191., 200., 209.],\n",
            "       [236., 245., 254.],\n",
            "       [281., 290., 299.],\n",
            "       [326., 335., 344.]], dtype=float32)\n"
          ]
        }
      ]
    },
    {
      "cell_type": "code",
      "source": [
        "# No cross-device communication costs. Computations are done independently on each dev.\n",
        "double_pmap_result = jax.pmap(convolve)(jax.pmap(convolve)(ws, xs), xs)\n",
        "print(repr(double_pmap_result))"
      ],
      "metadata": {
        "colab": {
          "base_uri": "https://localhost:8080/"
        },
        "id": "GuuA0QG2RXRx",
        "outputId": "f91e2843-2d70-442c-c373-d6dfea751fef"
      },
      "execution_count": null,
      "outputs": [
        {
          "output_type": "stream",
          "name": "stdout",
          "text": [
            "Array([[   78.,   138.,   198.],\n",
            "       [ 1188.,  1383.,  1578.],\n",
            "       [ 3648.,  3978.,  4308.],\n",
            "       [ 7458.,  7923.,  8388.],\n",
            "       [12618., 13218., 13818.],\n",
            "       [19128., 19863., 20598.],\n",
            "       [26988., 27858., 28728.],\n",
            "       [36198., 37203., 38208.]], dtype=float32)\n"
          ]
        }
      ]
    },
    {
      "cell_type": "code",
      "source": [
        "# Same results but we don't have to manually broadcast w (recall: same as for vmap!)\n",
        "pmap_smarter_result = jax.pmap(convolve, in_axes=(None, 0))(w, xs)\n",
        "print(repr(pmap_smarter_result))"
      ],
      "metadata": {
        "colab": {
          "base_uri": "https://localhost:8080/"
        },
        "id": "p-d_utXERZ8h",
        "outputId": "3f9e0cd1-3d01-44d7-f5af-5580261bd465"
      },
      "execution_count": null,
      "outputs": [
        {
          "output_type": "stream",
          "name": "stdout",
          "text": [
            "Array([[ 11.,  20.,  29.],\n",
            "       [ 56.,  65.,  74.],\n",
            "       [101., 110., 119.],\n",
            "       [146., 155., 164.],\n",
            "       [191., 200., 209.],\n",
            "       [236., 245., 254.],\n",
            "       [281., 290., 299.],\n",
            "       [326., 335., 344.]], dtype=float32)\n"
          ]
        }
      ]
    },
    {
      "cell_type": "markdown",
      "source": [
        "### Communication between devices"
      ],
      "metadata": {
        "id": "YI-iXa-sRfCq"
      }
    },
    {
      "cell_type": "code",
      "source": [
        "# Same example as above but this time we communicate across devices\n",
        "# in order to normalize the outputs\n",
        "def normalized_convolution(w, x):\n",
        "    output = []\n",
        "\n",
        "    for i in range(1, len(x)-1):\n",
        "        output.append(jnp.dot(x[i-1:i+2], w))\n",
        "\n",
        "    output = jnp.array(output)  # same result as before\n",
        "\n",
        "    return output / jax.lax.psum(output, axis_name='batch_dim')  # this is where communication happens\n",
        "\n",
        "res_pmap = jax.pmap(normalized_convolution, axis_name='batch_dim', in_axes=(None, 0))(w, xs)\n",
        "res_vmap = jax.vmap(normalized_convolution, axis_name='batch_dim', in_axes=(None, 0))(w, xs)\n",
        "\n",
        "print(repr(res_pmap))\n",
        "print(repr(res_vmap))\n",
        "\n",
        "print(f'Verify the output is normalized: {sum(res_pmap[:, 0])}')"
      ],
      "metadata": {
        "colab": {
          "base_uri": "https://localhost:8080/"
        },
        "id": "WPsKKJz_RcdI",
        "outputId": "81734411-d4fb-42f3-ad5a-c305216c581f"
      },
      "execution_count": null,
      "outputs": [
        {
          "output_type": "stream",
          "name": "stdout",
          "text": [
            "Array([[0.00816024, 0.01408451, 0.019437  ],\n",
            "       [0.04154303, 0.04577465, 0.04959785],\n",
            "       [0.07492582, 0.07746479, 0.07975871],\n",
            "       [0.10830861, 0.10915492, 0.10991956],\n",
            "       [0.14169139, 0.14084506, 0.14008042],\n",
            "       [0.17507419, 0.17253521, 0.17024128],\n",
            "       [0.20845698, 0.20422535, 0.20040214],\n",
            "       [0.24183977, 0.23591548, 0.23056298]], dtype=float32)\n",
            "Array([[0.00816024, 0.01408451, 0.019437  ],\n",
            "       [0.04154303, 0.04577465, 0.04959785],\n",
            "       [0.07492582, 0.07746479, 0.07975871],\n",
            "       [0.10830861, 0.10915492, 0.10991956],\n",
            "       [0.14169139, 0.14084506, 0.14008042],\n",
            "       [0.17507419, 0.17253521, 0.17024128],\n",
            "       [0.20845698, 0.20422535, 0.20040214],\n",
            "       [0.24183977, 0.23591548, 0.23056298]], dtype=float32)\n",
            "Verify the output is normalized: 1.0\n"
          ]
        }
      ]
    },
    {
      "cell_type": "markdown",
      "source": [
        "### Training a very simple model in parallel!"
      ],
      "metadata": {
        "id": "bN78iSXJdpZT"
      }
    },
    {
      "cell_type": "code",
      "source": [
        "class Params(NamedTuple):\n",
        "    weight: jnp.ndarray\n",
        "    bias: jnp.ndarray\n",
        "\n",
        "\n",
        "lr = 0.01\n",
        "\n",
        "\n",
        "def init_model(rng):\n",
        "    weights_key, bias_key = jax.random.split(rng)\n",
        "    weight = jax.random.normal(weights_key, ())\n",
        "    bias = jax.random.normal(bias_key, ())\n",
        "    return Params(weight, bias)\n",
        "\n",
        "\n",
        "def forward(params, xs):\n",
        "    return params.weight * xs + params.bias\n",
        "\n",
        "\n",
        "def loss_fn(params, xs, ys):\n",
        "    pred = forward(params, xs)\n",
        "    return jnp.mean((pred - ys) ** 2)  # MSE\n",
        "\n",
        "\n",
        "@functools.partial(jax.pmap, axis_name='batch')\n",
        "def update(params, xs, ys):\n",
        "\n",
        "    # Compute the gradients on the given minibatch (individually on each device).\n",
        "    loss, grads = jax.value_and_grad(loss_fn)(params, xs, ys)\n",
        "\n",
        "    # Combine the gradient across all devices (by taking their mean).\n",
        "    grads = jax.lax.pmean(grads, axis_name='batch')\n",
        "\n",
        "    # Also combine the loss. Unnecessary for the update, but useful for logging.\n",
        "    loss = jax.lax.pmean(loss, axis_name='batch')\n",
        "\n",
        "    # Each device performs its own SGD update, but since we start with the same params\n",
        "    # and synchronise gradients, the params stay in sync on each device.\n",
        "    new_params = jax.tree_map(\n",
        "        lambda param, g: param - g * lr, params, grads)\n",
        "\n",
        "    # If we were using Adam or another stateful optimizer,\n",
        "    # we would also do something like:\n",
        "    # updates, new_optimizer_state = optimizer(grads, optimizer_state)\n",
        "    # and then use updates instead of grads to actually update the params.\n",
        "    # (And we'd include the new_optimizer_state in the output, naturally.)\n",
        "\n",
        "    return new_params, loss"
      ],
      "metadata": {
        "id": "F9U2mPa3Rlei"
      },
      "execution_count": 8,
      "outputs": []
    },
    {
      "cell_type": "code",
      "source": [
        "# Generate true data from y = w*x + b + noise\n",
        "true_w, true_b = 2, -1\n",
        "xs = np.random.normal(size=(128, 1))\n",
        "noise = 0.5 * np.random.normal(size=(128, 1))\n",
        "ys = xs * true_w + true_b + noise\n",
        "\n",
        "plt.scatter(xs, ys)\n",
        "plt.show()"
      ],
      "metadata": {
        "colab": {
          "base_uri": "https://localhost:8080/",
          "height": 430
        },
        "id": "TAwnsDidd3BL",
        "outputId": "cf47234f-5391-4a20-c8e1-e379a6e87ccb"
      },
      "execution_count": 9,
      "outputs": [
        {
          "output_type": "display_data",
          "data": {
            "text/plain": [
              "<Figure size 640x480 with 1 Axes>"
            ],
            "image/png": "[encoded data removed]"
          },
          "metadata": {}
        }
      ]
    },
    {
      "cell_type": "code",
      "source": [
        "# Initialise parameters and replicate across devices.\n",
        "params = init_model(jax.random.PRNGKey(0))\n",
        "n_devices = jax.local_device_count()\n",
        "replicated_params = jax.tree_map(lambda x: jnp.array([x] * n_devices), params)\n",
        "print(replicated_params)\n",
        "\n",
        "# Prepare the data\n",
        "def reshape_for_pmap(data, n_devices):\n",
        "    return data.reshape(n_devices, data.shape[0] // n_devices, *data.shape[1:])\n",
        "\n",
        "x_parallel = reshape_for_pmap(xs, n_devices)\n",
        "y_parallel = reshape_for_pmap(ys, n_devices)\n",
        "\n",
        "print(x_parallel.shape, y_parallel.shape)"
      ],
      "metadata": {
        "colab": {
          "base_uri": "https://localhost:8080/"
        },
        "id": "ReEc6KuseMmV",
        "outputId": "303f0a9e-cd9d-476e-c360-5e3c69f128c6"
      },
      "execution_count": 10,
      "outputs": [
        {
          "output_type": "stream",
          "name": "stdout",
          "text": [
            "Params(weight=Array([1.0040118, 1.0040118, 1.0040118, 1.0040118, 1.0040118, 1.0040118,\n",
            "       1.0040118, 1.0040118], dtype=float32), bias=Array([-2.4424531, -2.4424531, -2.4424531, -2.4424531, -2.4424531,\n",
            "       -2.4424531, -2.4424531, -2.4424531], dtype=float32))\n",
            "(8, 16, 1) (8, 16, 1)\n"
          ]
        }
      ]
    },
    {
      "cell_type": "code",
      "source": [
        "def type_after_update(name, obj):\n",
        "    print(f\"after first `update()`, `{name}` is a {type(obj)}\")\n",
        "\n",
        "# Actual training loop\n",
        "num_epochs = 500\n",
        "for epoch in range(num_epochs):\n",
        "\n",
        "    # This is where the params and data gets communicated to devices\n",
        "    replicated_params, loss = update(replicated_params, x_parallel, y_parallel)\n",
        "\n",
        "    # replicated_params and loss are now both ShardedDeviceArrays,\n",
        "    # indicating that they're on the devices.\n",
        "    # x/y_parallel remains a NumPy array on the host (simulating data streaming).\n",
        "    if epoch == 0:\n",
        "        type_after_update('replicated_params.weight', replicated_params.weight)\n",
        "        type_after_update('loss', loss)\n",
        "        type_after_update('x_parallel', x_parallel)\n",
        "\n",
        "    if epoch % 100 == 0:\n",
        "        print(loss.shape)\n",
        "        print(f\"Step {epoch:3d}, loss: {loss[0]:.3f}\")\n",
        "\n",
        "# Like the loss, the leaves of params have an extra leading dimension,\n",
        "# so we take the params from the first device.\n",
        "params = jax.device_get(jax.tree_map(lambda x: x[0], replicated_params))"
      ],
      "metadata": {
        "colab": {
          "base_uri": "https://localhost:8080/"
        },
        "id": "i4GwdaNGeQMQ",
        "outputId": "930525c1-4a81-4471-dc53-9182cff5b89d"
      },
      "execution_count": 13,
      "outputs": [
        {
          "output_type": "stream",
          "name": "stdout",
          "text": [
            "after first `update()`, `replicated_params.weight` is a <class 'jaxlib.xla_extension.ArrayImpl'>\n",
            "after first `update()`, `loss` is a <class 'jaxlib.xla_extension.ArrayImpl'>\n",
            "after first `update()`, `x_parallel` is a <class 'numpy.ndarray'>\n",
            "(8,)\n",
            "Step   0, loss: 0.287\n",
            "(8,)\n",
            "Step 100, loss: 0.287\n",
            "(8,)\n",
            "Step 200, loss: 0.287\n",
            "(8,)\n",
            "Step 300, loss: 0.287\n",
            "(8,)\n",
            "Step 400, loss: 0.287\n"
          ]
        }
      ]
    },
    {
      "cell_type": "code",
      "source": [
        "plt.scatter(xs, ys)\n",
        "plt.plot(xs, forward(params, xs), c='red', label='Model Prediction')\n",
        "plt.legend()\n",
        "plt.show()\n",
        ""
      ],
      "metadata": {
        "colab": {
          "base_uri": "https://localhost:8080/",
          "height": 430
        },
        "id": "xVmPihWAeUg4",
        "outputId": "eb17b1b9-9536-4c21-feb6-de7880257f80"
      },
      "execution_count": 14,
      "outputs": [
        {
          "output_type": "display_data",
          "data": {
            "text/plain": [
              "<Figure size 640x480 with 1 Axes>"
            ],
            "image/png": "[encoded data removed]"
          },
          "metadata": {}
        }
      ]
    },
    {
      "cell_type": "code",
      "source": [
        "\n"
      ],
      "metadata": {
        "id": "XvXcsuRCeuDh"
      },
      "execution_count": null,
      "outputs": []
    }
  ]
}