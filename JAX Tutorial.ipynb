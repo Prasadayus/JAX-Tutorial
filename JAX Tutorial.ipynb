{
 "cells": [
  {
   "cell_type": "code",
   "execution_count": 1,
   "id": "b4d011a2",
   "metadata": {},
   "outputs": [],
   "source": [
    "#J-JIT Complilation-Just in Time\n",
    "#A-Automatic Differentiation\n",
    "#X-XLA(Acclelerated Linear Algebra)"
   ]
  },
  {
   "cell_type": "code",
   "execution_count": 1,
   "id": "68324d0a",
   "metadata": {},
   "outputs": [
    {
     "name": "stdout",
     "output_type": "stream",
     "text": [
      "[5 7 9]\n",
      "[1.        1.4142135 1.7320508]\n",
      "[[1]\n",
      " [2]\n",
      " [3]]\n"
     ]
    }
   ],
   "source": [
    "#JAX as NumPy\n",
    "import jax\n",
    "import jax.numpy as jnp\n",
    "from jax import jit\n",
    "a=jnp.array([1,2,3])\n",
    "b=jnp.array([4,5,6])\n",
    "\n",
    "print(a+b)\n",
    "print(jnp.sqrt(a))\n",
    "print(a.reshape(-1,1))\n",
    "#but in jax array are immutable"
   ]
  },
  {
   "cell_type": "code",
   "execution_count": 2,
   "id": "f903b535",
   "metadata": {},
   "outputs": [],
   "source": [
    "def myfunction(x):\n",
    "    return jnp.where(x%2==0,x/2,3*x+1)\n"
   ]
  },
  {
   "cell_type": "code",
   "execution_count": 11,
   "id": "3857ebbf",
   "metadata": {},
   "outputs": [
    {
     "name": "stdout",
     "output_type": "stream",
     "text": [
      "0.000547399977222085\n"
     ]
    }
   ],
   "source": [
    "import time\n",
    "arr=jnp.arange(10)\n",
    "start=time.perf_counter()\n",
    "myfunction(arr)\n",
    "end=time.perf_counter()\n",
    "print(end-start)"
   ]
  },
  {
   "cell_type": "code",
   "execution_count": 17,
   "id": "7ce9a658",
   "metadata": {},
   "outputs": [
    {
     "name": "stdout",
     "output_type": "stream",
     "text": [
      "0.00025809998624026775\n"
     ]
    }
   ],
   "source": [
    "import time\n",
    "arr=jnp.arange(10)\n",
    "start=time.perf_counter()\n",
    "myfunction(arr).block_until_ready()\n",
    "end=time.perf_counter()\n",
    "print(end-start)"
   ]
  },
  {
   "cell_type": "markdown",
   "id": "5f966de7",
   "metadata": {},
   "source": [
    "The difference between these two code snippets lies in JAX's lazy evaluation model. JAX uses Just-In-Time (JIT) compilation and asynchronous execution on GPUs/TPUs, meaning computations might not execute immediately when called.\n",
    "\n",
    "### First Code:\n",
    "\n",
    "- myfunction(arr) does not force immediate execution.\n",
    "- JAX schedules the computation asynchronously (especially on GPUs/TPUs).\n",
    "- time.perf_counter() captures the time before execution is actually complete.\n",
    "- The reported time might be smaller than the actual execution time.\n",
    "🔹 Issue: The function execution may still be running when the timer stops!\n",
    "\n",
    "### Second Code:\n",
    "\n",
    "- myfunction(arr) starts execution.\n",
    "- .block_until_ready() forces JAX to complete the computation before proceeding.\n",
    "- The timer only stops after all computations are actually finished.\n",
    "- This gives the true execution time."
   ]
  },
  {
   "cell_type": "markdown",
   "id": "4798d917",
   "metadata": {},
   "source": [
    "## Just-in-time compilation(JIT)"
   ]
  },
  {
   "cell_type": "code",
   "execution_count": 41,
   "id": "e54afc13",
   "metadata": {},
   "outputs": [
    {
     "name": "stdout",
     "output_type": "stream",
     "text": [
      "Without jit: [ 0.  4.  1. 10.  2. 16.  3. 22.  4. 28.]\n",
      "Execution Time: 0.03771480009891093\n"
     ]
    }
   ],
   "source": [
    "@jax.jit\n",
    "\n",
    "c\n",
    "\n",
    "arr = jnp.arange(10)\n",
    "\n",
    "# Measure execution time\n",
    "start = time.perf_counter()\n",
    "result = myfunction(arr).block_until_ready()   # Normal execution\n",
    "end = time.perf_counter()\n",
    "\n",
    "print(\"Without jit:\", result)\n",
    "print(\"Execution Time:\", end - start)\n"
   ]
  },
  {
   "cell_type": "code",
   "execution_count": 45,
   "id": "647c9a7c",
   "metadata": {},
   "outputs": [
    {
     "name": "stdout",
     "output_type": "stream",
     "text": [
      "With jit: [ 0.  4.  1. 10.  2. 16.  3. 22.  4. 28.]\n",
      "Execution Time: 0.00038650003261864185\n"
     ]
    }
   ],
   "source": [
    "myfunction_jit = jax.jit(myfunction)\n",
    "\n",
    "start = time.perf_counter()\n",
    "result_jit = myfunction_jit(arr).block_until_ready()  # JIT-compiled execution\n",
    "end = time.perf_counter()\n",
    "\n",
    "print(\"With jit:\", result_jit)\n",
    "print(\"Execution Time:\", end - start)"
   ]
  },
  {
   "cell_type": "markdown",
   "id": "8456d6c9",
   "metadata": {},
   "source": [
    "JAX provides the jax.jit (Just-In-Time compilation) decorator to speed up functions by compiling them with XLA (Accelerated Linear Algebra). This improves performance by optimizing computation and reducing Python overhead."
   ]
  },
  {
   "cell_type": "markdown",
   "id": "8e5eb223",
   "metadata": {},
   "source": [
    "### Key Observations:\n",
    "- First Call Overhead: The first time you call a JIT-compiled function, it takes longer because JAX compiles it.\n",
    "- Subsequent Calls are Faster: After compilation, execution runs much faster since the function is now optimized.\n",
    "- Automatic Vectorization: jax.jit enables parallel execution and fuses operations efficiently."
   ]
  },
  {
   "cell_type": "markdown",
   "id": "c21a0341",
   "metadata": {},
   "source": [
    "**Avoid jax.jit when:**\n",
    "\n",
    "Your function involves Python loops, print statements, or control flow that changes shape dynamically."
   ]
  },
  {
   "cell_type": "code",
   "execution_count": 47,
   "id": "f6cd2d3a",
   "metadata": {},
   "outputs": [
    {
     "name": "stdout",
     "output_type": "stream",
     "text": [
      "{ \u001b[34m\u001b[22m\u001b[1mlambda \u001b[39m\u001b[22m\u001b[22m; a\u001b[35m:i32[10]\u001b[39m. \u001b[34m\u001b[22m\u001b[1mlet\n",
      "    \u001b[39m\u001b[22m\u001b[22mb\u001b[35m:f32[10]\u001b[39m = pjit[\n",
      "      name=myfunction\n",
      "      jaxpr={ \u001b[34m\u001b[22m\u001b[1mlambda \u001b[39m\u001b[22m\u001b[22m; c\u001b[35m:i32[10]\u001b[39m. \u001b[34m\u001b[22m\u001b[1mlet\n",
      "          \u001b[39m\u001b[22m\u001b[22md\u001b[35m:i32[10]\u001b[39m = pjit[\n",
      "            name=remainder\n",
      "            jaxpr={ \u001b[34m\u001b[22m\u001b[1mlambda \u001b[39m\u001b[22m\u001b[22m; e\u001b[35m:i32[10]\u001b[39m f\u001b[35m:i32[]\u001b[39m. \u001b[34m\u001b[22m\u001b[1mlet\n",
      "                \u001b[39m\u001b[22m\u001b[22mg\u001b[35m:i32[]\u001b[39m = convert_element_type[new_dtype=int32 weak_type=False] f\n",
      "                h\u001b[35m:bool[]\u001b[39m = eq g 0\n",
      "                i\u001b[35m:i32[]\u001b[39m = pjit[\n",
      "                  name=_where\n",
      "                  jaxpr={ \u001b[34m\u001b[22m\u001b[1mlambda \u001b[39m\u001b[22m\u001b[22m; j\u001b[35m:bool[]\u001b[39m k\u001b[35m:i32[]\u001b[39m l\u001b[35m:i32[]\u001b[39m. \u001b[34m\u001b[22m\u001b[1mlet\n",
      "                      \u001b[39m\u001b[22m\u001b[22mm\u001b[35m:i32[]\u001b[39m = select_n j l k\n",
      "                    \u001b[34m\u001b[22m\u001b[1min \u001b[39m\u001b[22m\u001b[22m(m,) }\n",
      "                ] h 1 g\n",
      "                n\u001b[35m:i32[10]\u001b[39m = rem e i\n",
      "                o\u001b[35m:bool[10]\u001b[39m = ne n 0\n",
      "                p\u001b[35m:bool[10]\u001b[39m = lt n 0\n",
      "                q\u001b[35m:bool[]\u001b[39m = lt i 0\n",
      "                r\u001b[35m:bool[10]\u001b[39m = ne p q\n",
      "                s\u001b[35m:bool[10]\u001b[39m = and r o\n",
      "                t\u001b[35m:i32[10]\u001b[39m = add n i\n",
      "                u\u001b[35m:i32[10]\u001b[39m = select_n s n t\n",
      "              \u001b[34m\u001b[22m\u001b[1min \u001b[39m\u001b[22m\u001b[22m(u,) }\n",
      "          ] c 2\n",
      "          v\u001b[35m:bool[10]\u001b[39m = eq d 0\n",
      "          w\u001b[35m:f32[10]\u001b[39m = convert_element_type[new_dtype=float32 weak_type=False] c\n",
      "          x\u001b[35m:f32[10]\u001b[39m = div w 2.0\n",
      "          y\u001b[35m:i32[10]\u001b[39m = mul 3 c\n",
      "          z\u001b[35m:i32[10]\u001b[39m = add y 1\n",
      "          ba\u001b[35m:f32[10]\u001b[39m = pjit[\n",
      "            name=_where\n",
      "            jaxpr={ \u001b[34m\u001b[22m\u001b[1mlambda \u001b[39m\u001b[22m\u001b[22m; bb\u001b[35m:bool[10]\u001b[39m bc\u001b[35m:f32[10]\u001b[39m bd\u001b[35m:i32[10]\u001b[39m. \u001b[34m\u001b[22m\u001b[1mlet\n",
      "                \u001b[39m\u001b[22m\u001b[22mbe\u001b[35m:f32[10]\u001b[39m = convert_element_type[\n",
      "                  new_dtype=float32\n",
      "                  weak_type=False\n",
      "                ] bd\n",
      "                bf\u001b[35m:f32[10]\u001b[39m = select_n bb be bc\n",
      "              \u001b[34m\u001b[22m\u001b[1min \u001b[39m\u001b[22m\u001b[22m(bf,) }\n",
      "          ] v x z\n",
      "        \u001b[34m\u001b[22m\u001b[1min \u001b[39m\u001b[22m\u001b[22m(ba,) }\n",
      "    ] a\n",
      "  \u001b[34m\u001b[22m\u001b[1min \u001b[39m\u001b[22m\u001b[22m(b,) }\n"
     ]
    }
   ],
   "source": [
    "print(jax.make_jaxpr(myfunction)(arr))"
   ]
  },
  {
   "cell_type": "markdown",
   "id": "2369f925",
   "metadata": {},
   "source": [
    "### Automatic Differentiation "
   ]
  },
  {
   "cell_type": "code",
   "execution_count": 37,
   "id": "7b215f77",
   "metadata": {},
   "outputs": [],
   "source": [
    "from jax import grad"
   ]
  },
  {
   "cell_type": "code",
   "execution_count": 49,
   "id": "ddd43ab9",
   "metadata": {},
   "outputs": [
    {
     "name": "stdout",
     "output_type": "stream",
     "text": [
      "100\n"
     ]
    }
   ],
   "source": [
    "def square(x):\n",
    "    return x ** 2\n",
    "\n",
    "print(square(10.0))"
   ]
  },
  {
   "cell_type": "code",
   "execution_count": 51,
   "id": "46946be8",
   "metadata": {},
   "outputs": [
    {
     "name": "stdout",
     "output_type": "stream",
     "text": [
      "20.0\n"
     ]
    }
   ],
   "source": [
    "print(grad(square)(10.0))"
   ]
  },
  {
   "cell_type": "code",
   "execution_count": 54,
   "id": "9e5ce66e",
   "metadata": {},
   "outputs": [
    {
     "name": "stdout",
     "output_type": "stream",
     "text": [
      "2.0\n"
     ]
    }
   ],
   "source": [
    "print(grad(grad(square))(10.0))"
   ]
  },
  {
   "cell_type": "markdown",
   "id": "aabdf310",
   "metadata": {},
   "source": [
    "**Computing gradients in a linear logistic regression**"
   ]
  },
  {
   "cell_type": "code",
   "execution_count": 55,
   "id": "9fb69e09",
   "metadata": {},
   "outputs": [],
   "source": [
    "key = jax.random.key(7)\n",
    "\n",
    "def sigmoid(x):\n",
    "  return 0.5 * (jnp.tanh(x / 2) + 1)\n",
    "\n",
    "# Outputs probability of a label being true.\n",
    "def predict(W, b, inputs):\n",
    "  return sigmoid(jnp.dot(inputs, W) + b)\n",
    "\n",
    "# Build a toy dataset.\n",
    "inputs = jnp.array([[0.52, 1.12,  0.77],\n",
    "                    [0.88, -1.08, 0.15],\n",
    "                    [0.52, 0.06, -1.30],\n",
    "                    [0.74, -2.49, 1.39]])\n",
    "targets = jnp.array([True, False, False, True])\n",
    "\n",
    "# Training loss is the negative log-likelihood of the training examples.\n",
    "def loss(W, b):\n",
    "  preds = predict(W, b, inputs)\n",
    "  label_probs = preds * targets + (1 - preds) * (1 - targets)\n",
    "  return -jnp.sum(jnp.log(label_probs))\n",
    "\n",
    "# Initialize random model coefficients\n",
    "key, W_key, b_key = jax.random.split(key, 3)\n",
    "W = jax.random.normal(W_key, (3,))\n",
    "b = jax.random.normal(b_key, ())"
   ]
  },
  {
   "cell_type": "code",
   "execution_count": 58,
   "id": "969e5024",
   "metadata": {},
   "outputs": [
    {
     "name": "stdout",
     "output_type": "stream",
     "text": [
      "W_grad=Array([-0.5365673,  1.7310241, -2.2348125], dtype=float32)\n",
      "W_grad=Array([-0.5365673,  1.7310241, -2.2348125], dtype=float32)\n",
      "b_grad=Array(-0.7542623, dtype=float32)\n",
      "W_grad=Array([-0.5365673,  1.7310241, -2.2348125], dtype=float32)\n",
      "b_grad=Array(-0.7542623, dtype=float32)\n"
     ]
    }
   ],
   "source": [
    "# Differentiate `loss` with respect to the first positional argument which is weight(W):\n",
    "W_grad = grad(loss, argnums=0)(W, b)\n",
    "print(f'{W_grad=}')\n",
    "\n",
    "# Since argnums=0 is the default, this does the same thing:\n",
    "W_grad = grad(loss)(W, b)\n",
    "print(f'{W_grad=}')\n",
    "\n",
    "# But you can choose different values too, and drop the keyword:\n",
    "b_grad = grad(loss, 1)(W, b)\n",
    "print(f'{b_grad=}')\n",
    "\n",
    "# Including tuple values\n",
    "W_grad, b_grad = grad(loss, (0, 1))(W, b)\n",
    "print(f'{W_grad=}')\n",
    "print(f'{b_grad=}')"
   ]
  },
  {
   "cell_type": "markdown",
   "id": "524b6b7c",
   "metadata": {},
   "source": [
    "We can also perform  gradient checking and raises an error if the gradients are incorrect."
   ]
  },
  {
   "cell_type": "code",
   "execution_count": 66,
   "id": "2b90f2dd",
   "metadata": {},
   "outputs": [],
   "source": [
    "from jax.test_util import check_grads\n",
    "\n",
    "check_grads(loss, (W, b), order=2)"
   ]
  },
  {
   "cell_type": "markdown",
   "id": "d9b691a2",
   "metadata": {},
   "source": [
    "Now, this code will check if gradients of loss(W, b) are computed correctly up to the second order.\n",
    "\n",
    "And if we change the order to 4 or more than it will throw error."
   ]
  },
  {
   "cell_type": "code",
   "execution_count": 53,
   "id": "bf87022c",
   "metadata": {},
   "outputs": [
    {
     "name": "stdout",
     "output_type": "stream",
     "text": [
      "10.0 3.0 4.0\n",
      "Printing derivatives with respect to both x and y, use argnums=(0,1) 3.0 4.0\n"
     ]
    }
   ],
   "source": [
    "f = lambda x,y: x**2 + x + 4 + y**2\n",
    "\n",
    "x=1.\n",
    "y=2.\n",
    "\n",
    "dfdx=grad(f,argnums=(0))\n",
    "dfdy=grad(f,argnums=(1))\n",
    "dfdx_dy=grad(f,argnums=(0,1))\n",
    "result=dfdx_dy(x,y)\n",
    "print(f(x,y),dfdx(x,y),dfdy(x,y))\n",
    "print(\"Printing derivatives with respect to both x and y, use argnums=(0,1)\",result[0].item() ,result[1].item())"
   ]
  },
  {
   "cell_type": "markdown",
   "id": "98ae491d",
   "metadata": {},
   "source": [
    "**Advanced automatic differentiation**"
   ]
  },
  {
   "cell_type": "code",
   "execution_count": 61,
   "id": "85e09c35",
   "metadata": {},
   "outputs": [
    {
     "name": "stdout",
     "output_type": "stream",
     "text": [
      "Jacobian = (Array(3., dtype=float32, weak_type=True), Array(4., dtype=float32, weak_type=True))\n",
      "Full Hessian = ((Array(2., dtype=float32, weak_type=True), Array(0., dtype=float32, weak_type=True)), (Array(0., dtype=float32, weak_type=True), Array(2., dtype=float32, weak_type=True)))\n"
     ]
    }
   ],
   "source": [
    "from jax import jacfwd, jacrev\n",
    "\n",
    "def hessian(f):\n",
    "    return (jacfwd(jacrev(f, argnums=(0, 1)), argnums =(0, 1)))\n",
    "\n",
    "print(f'Jacobian = {jacrev(f, argnums=(0, 1))(1., 2.)}')\n",
    "print(f'Full Hessian = {hessian(f)(1.,2.)}')"
   ]
  },
  {
   "cell_type": "markdown",
   "id": "b7865299",
   "metadata": {},
   "source": [
    "### Automatic Vectorization"
   ]
  },
  {
   "cell_type": "markdown",
   "id": "e3f5f71b",
   "metadata": {},
   "source": [
    "Automatic vectorization in JAX allows you to apply a function element-wise over batch dimensions efficiently, without writing explicit loops. This is done using jax.vmap, which transforms a function to operate on batches of inputs in parallel.\n",
    "\n",
    "**Why Use jax.vmap?**\n",
    "- Avoids writing explicit loops over batch dimensions.\n",
    "- Efficiently utilizes hardware acceleration (TPUs, GPUs).\n",
    "- Automatically optimizes execution for better performance."
   ]
  },
  {
   "cell_type": "code",
   "execution_count": 67,
   "id": "da40a359",
   "metadata": {},
   "outputs": [
    {
     "name": "stdout",
     "output_type": "stream",
     "text": [
      "[ 4.  1. 10.  2. 16.]\n"
     ]
    }
   ],
   "source": [
    "def my_function(x):\n",
    "    return jnp.where(x % 2 == 0, x / 2, 3 * x + 1)\n",
    "\n",
    "x = jnp.array([1, 2, 3, 4, 5])\n",
    "\n",
    "# Manually applying function to each element\n",
    "output = jnp.array([my_function(xi) for xi in x])\n",
    "print(output)\n"
   ]
  },
  {
   "cell_type": "markdown",
   "id": "9624592a",
   "metadata": {},
   "source": [
    "Works, but uses an explicit loop, which is inefficient."
   ]
  },
  {
   "cell_type": "code",
   "execution_count": 68,
   "id": "a5277477",
   "metadata": {},
   "outputs": [
    {
     "name": "stdout",
     "output_type": "stream",
     "text": [
      "[ 4.  1. 10.  2. 16.]\n"
     ]
    }
   ],
   "source": [
    "def my_function(x):\n",
    "    return jnp.where(x % 2 == 0, x / 2, 3 * x + 1)\n",
    "\n",
    "x = jnp.array([1, 2, 3, 4, 5])\n",
    "\n",
    "# Automatically vectorizing the function\n",
    "vectorized_function = jax.vmap(my_function)\n",
    "\n",
    "# Apply function to the entire array\n",
    "output = vectorized_function(x)\n",
    "print(output)"
   ]
  },
  {
   "cell_type": "markdown",
   "id": "4f818bc8",
   "metadata": {},
   "source": [
    "Faster and more efficient! JAX automatically applies the function over all elements."
   ]
  },
  {
   "cell_type": "markdown",
   "id": "248c055e",
   "metadata": {},
   "source": [
    "If the batch dimension is not the first, you may use the in_axes and out_axes arguments to specify the location of the batch dimension in inputs and outputs. These may be an integer if the batch axis is the same for all inputs and outputs, or lists, otherwise.More you can read here https://dinocausevic.com/2023/06/13/jax-vmap/"
   ]
  },
  {
   "cell_type": "code",
   "execution_count": 64,
   "id": "45cd09d8",
   "metadata": {},
   "outputs": [
    {
     "name": "stdout",
     "output_type": "stream",
     "text": [
      "[47 71 99]\n",
      "[ 50 167]\n"
     ]
    }
   ],
   "source": [
    "import jax\n",
    "import jax.numpy as jnp\n",
    "from jax import vmap\n",
    "\n",
    "# Define a dot product function\n",
    "A = jnp.array([[1, 2, 3], [4, 5, 6]])   # Shape (2,3)\n",
    "B = jnp.array([[7, 8, 9], [10, 11, 12]]) # Shape (2,3)\n",
    "\n",
    "dot_product = lambda x, y: jnp.dot(x, y) \n",
    "\n",
    "batched_dot = vmap(dot_product,(1,1)) \n",
    "output = batched_dot(A, B)\n",
    "\n",
    "print(output)  \n",
    "\n",
    "A = jnp.array([[1, 2, 3], [4, 5, 6]])   # Shape (2,3)\n",
    "B = jnp.array([[7, 8, 9], [10, 11, 12]]) # Shape (2,3)\n",
    "\n",
    "batched_dot = vmap(dot_product,(0,0)) \n",
    "output = batched_dot(A, B)\n",
    "\n",
    "print(output) "
   ]
  },
  {
   "cell_type": "code",
   "execution_count": 18,
   "id": "5421d40b",
   "metadata": {},
   "outputs": [
    {
     "name": "stdout",
     "output_type": "stream",
     "text": [
      "[47 71 99]\n"
     ]
    }
   ],
   "source": [
    "A = jnp.array([[1, 2, 3], [4, 5, 6]])   # Shape (2,3)\n",
    "B = jnp.array([[7, 8, 9], [10, 11, 12]]) # Shape (2,3)\n",
    "\n",
    "batched_dot = vmap(dot_product,(1,1)) \n",
    "output = batched_dot(A, B)\n",
    "\n",
    "print(output) "
   ]
  },
  {
   "cell_type": "code",
   "execution_count": 65,
   "id": "bf28effc",
   "metadata": {},
   "outputs": [
    {
     "name": "stdout",
     "output_type": "stream",
     "text": [
      "[[ 50 122]\n",
      " [ 68 167]]\n"
     ]
    }
   ],
   "source": [
    "A = jnp.array([[1, 2, 3], [4, 5, 6]])   # Shape (2,3)\n",
    "B = jnp.array([[7, 8, 9], [10, 11, 12]]) # Shape (2,3)\n",
    "\n",
    "batched_dot = vmap(dot_product,(None,0)) \n",
    "output = batched_dot(A, B)\n",
    "\n",
    "print(output) "
   ]
  },
  {
   "cell_type": "code",
   "execution_count": 13,
   "id": "cd89c354",
   "metadata": {},
   "outputs": [
    {
     "name": "stdout",
     "output_type": "stream",
     "text": [
      "[[ 66  72  78]\n",
      " [156 171 186]]\n"
     ]
    }
   ],
   "source": [
    "A = jnp.array([[1, 2, 3], [4, 5, 6]])   # Shape (2,3)\n",
    "B = jnp.array([[7, 8, 9], [10, 11, 12],[13,14,15]]) # Shape (3,3)\n",
    "\n",
    "batched_dot = vmap(dot_product,(0,None),0) \n",
    "output = batched_dot(A, B)\n",
    "\n",
    "print(output)  \n"
   ]
  },
  {
   "cell_type": "code",
   "execution_count": 9,
   "id": "4326d406",
   "metadata": {},
   "outputs": [
    {
     "name": "stdout",
     "output_type": "stream",
     "text": [
      "[[ 66  72  78]\n",
      " [156 171 186]]\n"
     ]
    }
   ],
   "source": [
    "A = jnp.array([[1, 2, 3], [4, 5, 6]])   # Shape (2,3)\n",
    "B = jnp.array([[7, 8, 9], [10, 11, 12],[13,14,15]]) # Shape (3,3)\n",
    "\n",
    "batched_dot = vmap(dot_product,(None,1),1) \n",
    "output = batched_dot(A, B)\n",
    "\n",
    "print(output)  \n"
   ]
  },
  {
   "cell_type": "markdown",
   "id": "24209414",
   "metadata": {},
   "source": [
    "### Pseudorandom numbers"
   ]
  },
  {
   "cell_type": "code",
   "execution_count": 6,
   "id": "0f4d176f",
   "metadata": {},
   "outputs": [
    {
     "data": {
      "text/plain": [
       "Array((), dtype=key<fry>) overlaying:\n",
       "[0 7]"
      ]
     },
     "execution_count": 6,
     "metadata": {},
     "output_type": "execute_result"
    }
   ],
   "source": [
    "import jax\n",
    "\n",
    "key=jax.random.key(7)\n",
    "key"
   ]
  },
  {
   "cell_type": "markdown",
   "id": "a12e2686",
   "metadata": {},
   "source": [
    "A key is an array with a special dtype corresponding to the particular PRNG implementation being used; in the default implementation each key is backed by a pair of uint32 values.\n",
    "\n",
    "The key is effectively a stand-in for NumPy’s hidden state object, but we pass it explicitly to jax.random() functions. Importantly, random functions consume the key, but do not modify it: feeding the same key object to a random function will always result in the same sample being generated."
   ]
  },
  {
   "cell_type": "code",
   "execution_count": 7,
   "id": "137596f8",
   "metadata": {},
   "outputs": [
    {
     "name": "stdout",
     "output_type": "stream",
     "text": [
      "0.45123515\n",
      "0.45123515\n"
     ]
    }
   ],
   "source": [
    "print(jax.random.normal(key))\n",
    "print(jax.random.normal(key))"
   ]
  },
  {
   "cell_type": "markdown",
   "id": "f3618f4d",
   "metadata": {},
   "source": [
    "Re-using the same key, even with different random APIs, can result in correlated outputs, which is generally undesirable.\n",
    "\n",
    "The rule of thumb is: never reuse keys (unless you want identical outputs)."
   ]
  },
  {
   "cell_type": "markdown",
   "id": "931b8bfd",
   "metadata": {},
   "source": [
    "JAX uses a modern Threefry counter-based PRNG that’s splittable. That is, its design allows us to fork the PRNG state into new PRNGs for use with parallel stochastic generation. In order to generate different and independent samples, you must split() the key explicitly before passing it to a random function:"
   ]
  },
  {
   "cell_type": "code",
   "execution_count": 8,
   "id": "b5fd85d5",
   "metadata": {},
   "outputs": [
    {
     "name": "stdout",
     "output_type": "stream",
     "text": [
      "draw 0: 0.4541335105895996\n",
      "draw 1: 2.2433922290802\n",
      "draw 2: 1.0064350366592407\n"
     ]
    }
   ],
   "source": [
    "for i in range(3):\n",
    "  new_key, subkey = jax.random.split(key)\n",
    "  del key  # The old key is consumed by split() -- we must never use it again.\n",
    "\n",
    "  val = jax.random.normal(subkey)\n",
    "  del subkey  # The subkey is consumed by normal().\n",
    "\n",
    "  print(f\"draw {i}: {val}\")\n",
    "  key = new_key  # new_key is safe to use in the next iteration."
   ]
  },
  {
   "cell_type": "markdown",
   "id": "ace8c6f7",
   "metadata": {},
   "source": [
    "(Calling del here is not required, but we do so to emphasize that the key should not be reused once consumed.)\n",
    "\n",
    "jax.random.split() is a deterministic function that converts one key into several independent (in the pseudorandomness sense) keys. We keep one of the outputs as the new_key, and can safely use the unique extra key (called subkey) as input into a random function, and then discard it forever. If you wanted to get another sample from the normal distribution, you would split key again, and so on: the crucial point is that you never use the same key twice.\n",
    "\n",
    "It doesn’t matter which part of the output of split(key) we call key, and which we call subkey. They are all independent keys with equal status. The key/subkey naming convention is a typical usage pattern that helps track how keys are consumed: subkeys are destined for immediate consumption by random functions, while the key is retained to generate more randomness later."
   ]
  },
  {
   "cell_type": "markdown",
   "id": "79d33df3",
   "metadata": {},
   "source": [
    "Usually, the above example would be written concisely as"
   ]
  },
  {
   "cell_type": "code",
   "execution_count": 10,
   "id": "805c32dc",
   "metadata": {},
   "outputs": [],
   "source": [
    ".key, subkey = jax.random.split(key)"
   ]
  },
  {
   "cell_type": "markdown",
   "id": "e55b504c",
   "metadata": {},
   "source": [
    "which discards the old key automatically. It’s worth noting that split() can create as many keys as you need, not just 2"
   ]
  },
  {
   "cell_type": "code",
   "execution_count": 11,
   "id": "0c4e673b",
   "metadata": {},
   "outputs": [
    {
     "name": "stdout",
     "output_type": "stream",
     "text": [
      "Array((5,), dtype=key<fry>) overlaying:\n",
      "[[1655368132  475302476]\n",
      " [ 400014582 1736700117]\n",
      " [1856950286 2089119175]\n",
      " [4124452448  828469155]\n",
      " [2409566084 2032918171]]\n"
     ]
    }
   ],
   "source": [
    "keys=jax.random.split(key,5)\n",
    "\n",
    "print(keys)"
   ]
  },
  {
   "cell_type": "markdown",
   "id": "2c693445",
   "metadata": {},
   "source": [
    "### Pytrees\n",
    "\n",
    "A pytree is a container-like structure built out of container-like Python objects — “leaf” pytrees and/or more pytrees. A pytree can include lists, tuples, and dicts. A leaf is anything that’s not a pytree, such as an array, but a single leaf is also a pytree."
   ]
  },
  {
   "cell_type": "markdown",
   "id": "bb5cd003",
   "metadata": {},
   "source": [
    "In JAX, you can use jax.tree.leaves(), to extract the flattened leaves from the trees, as demonstrated here:"
   ]
  },
  {
   "cell_type": "code",
   "execution_count": 11,
   "id": "3810e029",
   "metadata": {},
   "outputs": [
    {
     "name": "stdout",
     "output_type": "stream",
     "text": [
      "[1, 'a', <object object at 0x000001E3E63316E0>] has 3 leaves: [1, 'a', <object object at 0x000001E3E63316E0>]\n",
      "(1, (2, 3), ())                               has 3 leaves: [1, 2, 3]\n",
      "[1, {'k1': 2, 'k2': (3, 4)}, 5]               has 5 leaves: [1, 2, 3, 4, 5]\n",
      "{'a': 2, 'b': (2, 3)}                         has 3 leaves: [2, 2, 3]\n",
      "Array([1, 2, 3], dtype=int32)                 has 1 leaves: [Array([1, 2, 3], dtype=int32)]\n"
     ]
    }
   ],
   "source": [
    "import jax\n",
    "import jax.numpy as jnp\n",
    "\n",
    "example_trees = [\n",
    "    [1, 'a', object()],\n",
    "    (1, (2, 3), ()),\n",
    "    [1, {'k1': 2, 'k2': (3, 4)}, 5],\n",
    "    {'a': 2, 'b': (2, 3)},\n",
    "    jnp.array([1, 2, 3]),\n",
    "]\n",
    "\n",
    "# Print how many leaves the pytrees have.\n",
    "for pytree in example_trees:\n",
    "  # This `jax.tree.leaves()` method extracts the flattened leaves from the pytrees.\n",
    "  leaves = jax.tree.leaves(pytree)\n",
    "  print(f\"{repr(pytree):<45} has {len(leaves)} leaves: {leaves}\")"
   ]
  },
  {
   "cell_type": "markdown",
   "id": "fbdcbd6a",
   "metadata": {},
   "source": [
    "**jax.tree.map**\n",
    "\n",
    "jax.tree_map is a  function in JAX that applies a function element-wise to all leaves of a PyTree (nested structure). It is similar to Python's map(), but works on nested data structures like lists, tuples, and dictionaries."
   ]
  },
  {
   "cell_type": "code",
   "execution_count": 13,
   "id": "bb91cda2",
   "metadata": {},
   "outputs": [
    {
     "name": "stdout",
     "output_type": "stream",
     "text": [
      "{'a': Array([2, 4, 6], dtype=int32), 'b': [8, 10, 12]}\n"
     ]
    }
   ],
   "source": [
    "tree = {'a': jnp.array([1, 2, 3]), 'b': [4, 5, 6]}\n",
    "result = jax.tree.map(lambda x: x * 2, tree)\n",
    "\n",
    "print(result)"
   ]
  },
  {
   "cell_type": "markdown",
   "id": "85a970cd",
   "metadata": {},
   "source": [
    "**Extending PyTrees with jax.tree_util.register_pytree_node() and jax.tree_map()**\n",
    "\n",
    "JAX provides PyTrees (nested data structures) to handle complex data efficiently. By default, JAX treats Python structures like lists, tuples, dictionaries, and NumPy arrays as PyTrees.\n",
    "\n",
    "However, custom classes are not automatically recognized as PyTrees.\n",
    "To extend JAX's PyTree system for a custom class, we use:\n",
    "\n",
    "jax.tree_util.register_pytree_node() → Registers a custom object as a PyTree.\n",
    "jax.tree_map() → Applies a function to PyTree leaves."
   ]
  },
  {
   "cell_type": "code",
   "execution_count": 15,
   "id": "27148acc",
   "metadata": {},
   "outputs": [
    {
     "data": {
      "text/plain": [
       "[<__main__.Special at 0x1e3e482cb90>, <__main__.Special at 0x1e3e6b4ff10>]"
      ]
     },
     "execution_count": 15,
     "metadata": {},
     "output_type": "execute_result"
    }
   ],
   "source": [
    "class Special(object):\n",
    "  def __init__(self, x, y):\n",
    "    self.x = x\n",
    "    self.y = y\n",
    "\n",
    "jax.tree.leaves([\n",
    "    Special(0, 1),\n",
    "    Special(2, 4),\n",
    "])"
   ]
  },
  {
   "cell_type": "code",
   "execution_count": 16,
   "id": "bc9eb9ca",
   "metadata": {},
   "outputs": [],
   "source": [
    "from jax.tree_util import register_pytree_node\n",
    "\n",
    "class RegisteredSpecial(Special):\n",
    "  def __repr__(self):\n",
    "    return \"RegisteredSpecial(x={}, y={})\".format(self.x, self.y)\n",
    "\n",
    "def special_flatten(v):\n",
    "  \"\"\"Specifies a flattening recipe.\n",
    "\n",
    "  Params:\n",
    "    v: The value of the registered type to flatten.\n",
    "  Returns:\n",
    "    A pair of an iterable with the children to be flattened recursively,\n",
    "    and some opaque auxiliary data to pass back to the unflattening recipe.\n",
    "    The auxiliary data is stored in the treedef for use during unflattening.\n",
    "    The auxiliary data could be used, for example, for dictionary keys.\n",
    "  \"\"\"\n",
    "  children = (v.x, v.y)\n",
    "  aux_data = None\n",
    "  return (children, aux_data)\n",
    "\n",
    "def special_unflatten(aux_data, children):\n",
    "  \"\"\"Specifies an unflattening recipe.\n",
    "\n",
    "  Params:\n",
    "    aux_data: The opaque data that was specified during flattening of the\n",
    "      current tree definition.\n",
    "    children: The unflattened children\n",
    "\n",
    "  Returns:\n",
    "    A reconstructed object of the registered type, using the specified\n",
    "    children and auxiliary data.\n",
    "  \"\"\"\n",
    "  return RegisteredSpecial(*children)\n",
    "\n",
    "# Global registration\n",
    "register_pytree_node(\n",
    "    RegisteredSpecial,\n",
    "    special_flatten,    # Instruct JAX what are the children nodes.\n",
    "    special_unflatten   # Instruct JAX how to pack back into a `RegisteredSpecial`.\n",
    ")"
   ]
  },
  {
   "cell_type": "code",
   "execution_count": 17,
   "id": "1fc9ac65",
   "metadata": {},
   "outputs": [
    {
     "data": {
      "text/plain": [
       "[RegisteredSpecial(x=1, y=2), RegisteredSpecial(x=3, y=5)]"
      ]
     },
     "execution_count": 17,
     "metadata": {},
     "output_type": "execute_result"
    }
   ],
   "source": [
    "jax.tree.map(lambda x: x + 1,\n",
    "  [\n",
    "   RegisteredSpecial(0, 1),\n",
    "   RegisteredSpecial(2, 4),\n",
    "  ])"
   ]
  },
  {
   "cell_type": "code",
   "execution_count": null,
   "id": "ad75c369",
   "metadata": {},
   "outputs": [],
   "source": []
  },
  {
   "cell_type": "markdown",
   "id": "203d9766",
   "metadata": {},
   "source": [
    "### Gotcha #1: Pure functions\n",
    "- JAX is designed to work only on pure functions!"
   ]
  },
  {
   "cell_type": "markdown",
   "id": "c38042ed",
   "metadata": {},
   "source": [
    "A pure function is a function that satisfies the following two properties:\n",
    "\n",
    "- No Side Effects – The function does not modify any external state (e.g., global variables, I/O operations, database writes).\n",
    "- Deterministic Output – For the same input, the function always produces the same output."
   ]
  },
  {
   "cell_type": "markdown",
   "id": "696654e6",
   "metadata": {},
   "source": [
    "**Why Does JAX Require Pure Functions?**\n",
    "\n",
    "JAX uses just-in-time (JIT) compilation and automatic differentiation. If functions have side effects, JAX cannot safely optimize or parallelize computations."
   ]
  },
  {
   "cell_type": "code",
   "execution_count": 5,
   "id": "9e3ade0c",
   "metadata": {},
   "outputs": [
    {
     "name": "stdout",
     "output_type": "stream",
     "text": [
      "Executing function\n",
      "First call:  4.0\n",
      "Second call:  5.0\n",
      "Executing function\n",
      "Third call, different type:  [5.]\n"
     ]
    }
   ],
   "source": [
    "#Example 1\n",
    "\n",
    "def impure_print_side_effect(x):\n",
    "    print(\"Executing function\") # Side effect: printing\n",
    "    return x\n",
    "\n",
    "# The side-effects appear during the first run \n",
    "print (\"First call: \", jit(impure_print_side_effect)(4.))\n",
    "\n",
    "# Subsequent runs with parameters of same type and shape may not show the side-effect\n",
    "# This is because JAX now invokes a cached compiled version of the function\n",
    "print (\"Second call: \", jit(impure_print_side_effect)(5.))\n",
    "\n",
    "# JAX re-runs the Python function when the type or shape of the argument changes\n",
    "print (\"Third call, different type: \", jit(impure_print_side_effect)(jnp.array([5.])))"
   ]
  },
  {
   "cell_type": "code",
   "execution_count": 6,
   "id": "be1bdf93",
   "metadata": {},
   "outputs": [
    {
     "name": "stdout",
     "output_type": "stream",
     "text": [
      "First call:  4.0\n",
      "Second call:  5.0\n",
      "Third call, different type:  [14.]\n"
     ]
    }
   ],
   "source": [
    "# Example 2\n",
    "\n",
    "g = 0.\n",
    "\n",
    "def impure_uses_globals(x):\n",
    "    return x + g # Modifies external variable\n",
    "\n",
    "# JAX captures the value of the global during the first run\n",
    "print (\"First call: \", jit(impure_uses_globals)(4.))\n",
    "\n",
    "# Let's update the global!\n",
    "g = 10.\n",
    "\n",
    "# Subsequent runs may silently use the cached value of the globals\n",
    "print (\"Second call: \", jit(impure_uses_globals)(5.))\n",
    "\n",
    "# JAX re-runs the Python function when the type or shape of the argument changes\n",
    "# This will end up reading the latest value of the global\n",
    "print (\"Third call, different type: \", jit(impure_uses_globals)(jnp.array([4.])))"
   ]
  },
  {
   "cell_type": "markdown",
   "id": "8bb050d7",
   "metadata": {},
   "source": [
    "### Gotcha #2: In-Place Updates\n"
   ]
  },
  {
   "cell_type": "code",
   "execution_count": 7,
   "id": "36e8cf6e",
   "metadata": {},
   "outputs": [
    {
     "name": "stdout",
     "output_type": "stream",
     "text": [
      "original array unchanged:\n",
      " [[0. 0. 0.]\n",
      " [0. 0. 0.]\n",
      " [0. 0. 0.]]\n",
      "updated array:\n",
      " [[0. 0. 0.]\n",
      " [1. 1. 1.]\n",
      " [0. 0. 0.]]\n"
     ]
    }
   ],
   "source": [
    "jax_array = jnp.zeros((3,3), dtype=jnp.float32)\n",
    "updated_array = jax_array.at[1, :].set(1.0)\n",
    "\n",
    "print(\"original array unchanged:\\n\", jax_array)\n",
    "print(\"updated array:\\n\", updated_array)\n",
    "\n",
    "# If this seems wasteful to you, congrats, you did some algorithms/data structures in your life. ;)\n",
    "# The thing is - inside jit-compiled code, if the input value x of x.at[idx].set(y) \n",
    "# is not reused, the compiler will optimize the array update to occur in-place!"
   ]
  },
  {
   "cell_type": "markdown",
   "id": "ddc5285a",
   "metadata": {},
   "source": [
    "### Gotcha #3: Out-of-Bounds Indexing\n",
    "Due to JAX's accelerator agnostic approach JAX had to make a non-error behaviour for out of bounds indexing (similarly to how invalid fp arithmetic results in NaNs and not an exception)."
   ]
  },
  {
   "cell_type": "code",
   "execution_count": 9,
   "id": "df4927e2",
   "metadata": {},
   "outputs": [
    {
     "name": "stdout",
     "output_type": "stream",
     "text": [
      "Exception index 11 is out of bounds for axis 0 with size 10\n"
     ]
    }
   ],
   "source": [
    "# NumPy behavior\n",
    "import numpy as np \n",
    "try:\n",
    "  np.arange(10)[11]\n",
    "except Exception as e:\n",
    "    print(\"Exception {}\".format(e))"
   ]
  },
  {
   "cell_type": "code",
   "execution_count": 10,
   "id": "943debe6",
   "metadata": {},
   "outputs": [
    {
     "name": "stdout",
     "output_type": "stream",
     "text": [
      "[0 1 2 3 4 5 6 7 8 9]\n",
      "9\n"
     ]
    }
   ],
   "source": [
    "# JAX behavior\n",
    "# 1) updates at out-of-bounds indices are skipped\n",
    "# 2) retrievals result in index being clamped\n",
    "# in general there are currently some bugs so just consider the behavior undefined!\n",
    "\n",
    "print(jnp.arange(10).at[11].add(23))  # example of 1)\n",
    "print(jnp.arange(10)[11])  # example of 2)"
   ]
  },
  {
   "cell_type": "markdown",
   "id": "7408824c",
   "metadata": {},
   "source": [
    "### Stateful computations"
   ]
  },
  {
   "cell_type": "markdown",
   "id": "7c40c3de",
   "metadata": {},
   "source": [
    "JAX transformations like jit(), vmap(), grad(), require the functions they wrap to be pure: that is, functions whose outputs depend solely on the inputs, and which have no side effects such as updating of global state."
   ]
  },
  {
   "cell_type": "code",
   "execution_count": 1,
   "id": "cd900264",
   "metadata": {},
   "outputs": [
    {
     "name": "stdout",
     "output_type": "stream",
     "text": [
      "1\n",
      "2\n",
      "3\n"
     ]
    }
   ],
   "source": [
    "import jax\n",
    "import jax.numpy as jnp\n",
    "\n",
    "class Counter:\n",
    "  \"\"\"A simple counter.\"\"\"\n",
    "\n",
    "  def __init__(self):\n",
    "    self.n = 0\n",
    "\n",
    "  def count(self) -> int:\n",
    "    \"\"\"Increments the counter and returns the new value.\"\"\"\n",
    "    self.n += 1\n",
    "    return self.n\n",
    "\n",
    "  def reset(self):\n",
    "    \"\"\"Resets the counter to zero.\"\"\"\n",
    "    self.n = 0\n",
    "\n",
    "\n",
    "counter = Counter()\n",
    "\n",
    "for _ in range(3):\n",
    "  print(counter.count())"
   ]
  },
  {
   "cell_type": "markdown",
   "id": "2c3a27d7",
   "metadata": {},
   "source": [
    "The counter’s n attribute maintains the counter’s state between successive calls of count. It is modified as a side effect of calling count.\n",
    "\n",
    "Let’s say we want to count fast, so we JIT-compile the count method."
   ]
  },
  {
   "cell_type": "code",
   "execution_count": 8,
   "id": "117b2a81",
   "metadata": {},
   "outputs": [
    {
     "name": "stdout",
     "output_type": "stream",
     "text": [
      "1\n",
      "1\n",
      "1\n"
     ]
    }
   ],
   "source": [
    "counter.reset()\n",
    "fast_count = jax.jit(counter.count)\n",
    "\n",
    "for _ in range(3):\n",
    "  print(fast_count())"
   ]
  },
  {
   "cell_type": "markdown",
   "id": "ef10ee0a",
   "metadata": {},
   "source": [
    "Oh no! Our counter isn’t working. This is because the line:\n",
    "\n",
    "self.n += 1\n",
    "\n",
    "in count involves a side effect: it modifies the input counter in-place, and so this function is not supported by jit. Such side effects are executed only once when the function is first traced, and subsequent calls will not repeat the side effect.\n"
   ]
  },
  {
   "cell_type": "markdown",
   "id": "e5ccdece",
   "metadata": {},
   "source": [
    "**The solution: explicit state**"
   ]
  },
  {
   "cell_type": "code",
   "execution_count": 9,
   "id": "ca7ca797",
   "metadata": {},
   "outputs": [
    {
     "name": "stdout",
     "output_type": "stream",
     "text": [
      "1\n",
      "2\n",
      "3\n"
     ]
    }
   ],
   "source": [
    "CounterState = int\n",
    "\n",
    "class CounterV2:\n",
    "\n",
    "  def count(self, n: CounterState) -> tuple[int, CounterState]:\n",
    "    # You could just return n+1, but here we separate its role as \n",
    "    # the output and as the counter state for didactic purposes.\n",
    "    return n+1, n+1\n",
    "\n",
    "  def reset(self) -> CounterState:\n",
    "    return 0\n",
    "\n",
    "counter = CounterV2()\n",
    "state = counter.reset()\n",
    "\n",
    "for _ in range(3):\n",
    "  value, state = counter.count(state)\n",
    "  print(value)"
   ]
  },
  {
   "cell_type": "markdown",
   "id": "2035c5ce",
   "metadata": {},
   "source": [
    "In this new version of Counter, we moved n to be an argument of count, and added another return value that represents the new, updated, state. To use this counter, we now need to keep track of the state explicitly. But in return, we can now safely jax.jit this counter:"
   ]
  },
  {
   "cell_type": "code",
   "execution_count": 10,
   "id": "146c8a37",
   "metadata": {},
   "outputs": [
    {
     "name": "stdout",
     "output_type": "stream",
     "text": [
      "1\n",
      "2\n",
      "3\n"
     ]
    }
   ],
   "source": [
    "state = counter.reset()\n",
    "fast_count = jax.jit(counter.count)\n",
    "\n",
    "for _ in range(3):\n",
    "  value, state = fast_count(state)\n",
    "  print(value)"
   ]
  },
  {
   "cell_type": "markdown",
   "id": "1747517b",
   "metadata": {},
   "source": [
    "**A general strategy**"
   ]
  },
  {
   "cell_type": "markdown",
   "id": "05fda754",
   "metadata": {},
   "source": [
    "We can apply the same process to any stateful method to convert it into a stateless one. We took a class of the form"
   ]
  },
  {
   "cell_type": "code",
   "execution_count": null,
   "id": "8929c6bb",
   "metadata": {},
   "outputs": [],
   "source": [
    "class StatefulClass\n",
    "\n",
    "  state: State\n",
    "\n",
    "  def stateful_method(*args, **kwargs) -> Output:"
   ]
  },
  {
   "cell_type": "markdown",
   "id": "36fa79eb",
   "metadata": {},
   "source": [
    "and turned it into a class of the form"
   ]
  },
  {
   "cell_type": "code",
   "execution_count": null,
   "id": "1ad221fa",
   "metadata": {},
   "outputs": [],
   "source": [
    "class StatelessClass\n",
    "\n",
    "  def stateless_method(state: State, *args, **kwargs) -> (Output, State):"
   ]
  },
  {
   "cell_type": "markdown",
   "id": "c1b698df",
   "metadata": {},
   "source": [
    "### Taining a toy MLP (multi-layer perceptron) model"
   ]
  },
  {
   "cell_type": "code",
   "execution_count": 8,
   "id": "38bd06c1",
   "metadata": {},
   "outputs": [
    {
     "data": {
      "text/plain": [
       "[{'biases': (128,), 'weights': (1, 128)},\n",
       " {'biases': (128,), 'weights': (128, 128)},\n",
       " {'biases': (1,), 'weights': (128, 1)}]"
      ]
     },
     "execution_count": 8,
     "metadata": {},
     "output_type": "execute_result"
    }
   ],
   "source": [
    "import jax\n",
    "import jax.numpy as jnp\n",
    "import numpy as np\n",
    "import matplotlib.pyplot as plt\n",
    "\n",
    "def init_mlp_params(layer_widths):\n",
    "    params = []\n",
    "\n",
    "    # Allocate weights and biases (model parameters)\n",
    "    # Notice: we're not using JAX's PRNG here - doesn't matter for this simple example\n",
    "    for n_in, n_out in zip(layer_widths[:-1], layer_widths[1:]):\n",
    "        params.append(\n",
    "            dict(weights=np.random.normal(size=(n_in, n_out)) * np.sqrt(2/n_in),\n",
    "                biases=np.ones(shape=(n_out,))\n",
    "        )\n",
    "    )\n",
    "\n",
    "    return params\n",
    "\n",
    "# Instantiate a single input - single output, 3 layer (2 hidden layers) deep MLP\n",
    "params = init_mlp_params([1, 128, 128, 1])\n",
    "\n",
    "# Another example of how we might use tree_map - verify that shapes make sense:\n",
    "jax.tree_map(lambda x: x.shape, params)"
   ]
  },
  {
   "cell_type": "code",
   "execution_count": 9,
   "id": "11d2167c",
   "metadata": {},
   "outputs": [],
   "source": [
    "def forward(params, x):\n",
    "    *hidden, last = params\n",
    "\n",
    "    for layer in hidden:\n",
    "        x = jax.nn.relu(jnp.dot(x, layer['weights']) + layer['biases'])\n",
    "\n",
    "    return jnp.dot(x, last['weights']) + last['biases']\n",
    "\n",
    "def loss_fn(params, x, y):\n",
    "    return jnp.mean((forward(params, x) - y) ** 2)  # MSE loss\n",
    "\n",
    "lr = 0.0001\n",
    "\n",
    "@jit  # notice how we do jit only at the highest level - XLA will have plenty of space to optimize\n",
    "def update(params, x, y):\n",
    "\n",
    "    # Note that grads is a pytree with the same structure as params.\n",
    "    # grad is one of the many JAX functions that has built-in support for pytrees!\n",
    "    grads = jax.grad(loss_fn)(params, x, y)\n",
    "\n",
    "    # SGD update\n",
    "    return jax.tree_map(\n",
    "        lambda p, g: p - lr * g, params, grads  # for every leaf i.e. for every param of MLP\n",
    "    )\n",
    "     "
   ]
  },
  {
   "cell_type": "code",
   "execution_count": 10,
   "id": "f3a44fe3",
   "metadata": {},
   "outputs": [
    {
     "data": {
      "image/png": "[encoded data removed]",
      "text/plain": [
       "<Figure size 640x480 with 1 Axes>"
      ]
     },
     "metadata": {},
     "output_type": "display_data"
    }
   ],
   "source": [
    "xs = np.random.normal(size=(128, 1))\n",
    "ys = xs ** 2  # let's learn how to regress a parabola\n",
    "\n",
    "num_epochs = 5000\n",
    "for _ in range(num_epochs):\n",
    "    params = update(params, xs, ys)  # again our lovely pattern\n",
    "\n",
    "plt.scatter(xs, ys)\n",
    "plt.scatter(xs, forward(params, xs), label='Model prediction')\n",
    "plt.legend();"
   ]
  }
 ],
 "metadata": {
  "kernelspec": {
   "display_name": "Python 3 (ipykernel)",
   "language": "python",
   "name": "python3"
  },
  "language_info": {
   "codemirror_mode": {
    "name": "ipython",
    "version": 3
   },
   "file_extension": ".py",
   "mimetype": "text/x-python",
   "name": "python",
   "nbconvert_exporter": "python",
   "pygments_lexer": "ipython3",
   "version": "3.11.3"
  }
 },
 "nbformat": 4,
 "nbformat_minor": 5
}
