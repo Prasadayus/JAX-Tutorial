{
  "nbformat": 4,
  "nbformat_minor": 0,
  "metadata": {
    "colab": {
      "provenance": []
    },
    "kernelspec": {
      "name": "python3",
      "display_name": "Python 3"
    },
    "language_info": {
      "name": "python"
    }
  },
  "cells": [
    {
      "cell_type": "code",
      "execution_count": 1,
      "metadata": {
        "id": "zgK6pAv1J4fC"
      },
      "outputs": [],
      "source": [
        "import numpy as np\n",
        "import jax.numpy as jnp\n",
        "from jax.scipy.special import logsumexp\n",
        "import jax\n",
        "from jax import jit, vmap, pmap, grad, value_and_grad\n",
        "\n",
        "import tensorflow as tf\n",
        "import tensorflow_datasets as tfds"
      ]
    },
    {
      "cell_type": "code",
      "source": [
        "seed = 7\n",
        "mnist_img_size = (28, 28)\n",
        "\n",
        "def init_MLP(layer_widths, parent_key, scale=0.01):\n",
        "\n",
        "    params = []\n",
        "    keys = jax.random.split(parent_key, num=len(layer_widths)-1)\n",
        "\n",
        "    for in_width, out_width, key in zip(layer_widths[:-1], layer_widths[1:], keys):\n",
        "        weight_key, bias_key = jax.random.split(key)\n",
        "        params.append([\n",
        "                       scale*jax.random.normal(weight_key, shape=(out_width, in_width)),\n",
        "                       scale*jax.random.normal(bias_key, shape=(out_width,))\n",
        "                       ]\n",
        "        )\n",
        "\n",
        "    return params\n",
        "\n",
        "# test\n",
        "key = jax.random.PRNGKey(seed)\n",
        "MLP_params = init_MLP([784, 512, 256, 10], key)\n",
        "print(jax.tree_map(lambda x: x.shape, MLP_params))"
      ],
      "metadata": {
        "colab": {
          "base_uri": "https://localhost:8080/"
        },
        "id": "ZCcApnZSLEin",
        "outputId": "9d4cc434-7d36-48a9-9551-1b224d700195"
      },
      "execution_count": 2,
      "outputs": [
        {
          "output_type": "stream",
          "name": "stdout",
          "text": [
            "[[(512, 784), (512,)], [(256, 512), (256,)], [(10, 256), (10,)]]\n"
          ]
        },
        {
          "output_type": "stream",
          "name": "stderr",
          "text": [
            "<ipython-input-2-963e9fe246f8>:22: DeprecationWarning: jax.tree_map is deprecated: use jax.tree.map (jax v0.4.25 or newer) or jax.tree_util.tree_map (any JAX version).\n",
            "  print(jax.tree_map(lambda x: x.shape, MLP_params))\n"
          ]
        }
      ]
    },
    {
      "cell_type": "code",
      "source": [
        "def MLP_predict(params, x):\n",
        "    hidden_layers = params[:-1]\n",
        "\n",
        "    activation = x\n",
        "    for w, b in hidden_layers:\n",
        "        activation = jax.nn.relu(jnp.dot(w, activation) + b)\n",
        "\n",
        "    w_last, b_last = params[-1]\n",
        "    logits = jnp.dot(w_last, activation) + b_last\n",
        "\n",
        "    # log(exp(o1)) - log(sum(exp(o1), exp(o2), ..., exp(o10)))\n",
        "    # log( exp(o1) / sum(...) )\n",
        "    return logits - logsumexp(logits)"
      ],
      "metadata": {
        "id": "2TsEhxI0Om8f"
      },
      "execution_count": 3,
      "outputs": []
    },
    {
      "cell_type": "code",
      "source": [
        "# Custom transformation function\n",
        "def custom_transform(x, y):\n",
        "    x = np.ravel(np.array(x, dtype=np.float32))  # Flatten the image\n",
        "    return x, y\n",
        "\n",
        "# Load MNIST using TensorFlow\n",
        "(train_images, train_lbls), (test_images, test_lbls) = tf.keras.datasets.mnist.load_data()\n",
        "\n",
        "# Convert labels to int32\n",
        "train_lbls = np.array(train_lbls, dtype=np.int32)\n",
        "test_lbls = np.array(test_lbls, dtype=np.int32)\n",
        "\n",
        "# Create TensorFlow Datasets\n",
        "batch_size = 128\n",
        "\n",
        "train_dataset = tf.data.Dataset.from_tensor_slices((train_images, train_lbls))\n",
        "train_dataset = train_dataset.map(lambda x, y: tf.py_function(custom_transform, [x, y], [tf.float32, tf.int32]))\n",
        "train_dataset = train_dataset.shuffle(10000).batch(batch_size).prefetch(tf.data.experimental.AUTOTUNE)\n",
        "\n",
        "test_dataset = tf.data.Dataset.from_tensor_slices((test_images, test_lbls))\n",
        "test_dataset = test_dataset.map(lambda x, y: tf.py_function(custom_transform, [x, y], [tf.float32, tf.int32]))\n",
        "test_dataset = test_dataset.batch(batch_size).prefetch(tf.data.experimental.AUTOTUNE)\n",
        "\n",
        "# Convert TensorFlow Dataset to JAX arrays\n",
        "def tf_to_jax(dataset):\n",
        "    images, labels = [], []\n",
        "    for x, y in dataset.unbatch():\n",
        "        images.append(x.numpy())\n",
        "        labels.append(y.numpy())\n",
        "    return jnp.array(images), jnp.array(labels)\n",
        "\n",
        "# Convert the entire dataset to JAX format\n",
        "train_images_jax, train_lbls_jax = tf_to_jax(train_dataset)\n",
        "test_images_jax, test_lbls_jax = tf_to_jax(test_dataset)\n",
        "\n",
        "# Test Shapes\n",
        "print(f\"Train Images Shape: {train_images_jax.shape}, Labels Shape: {train_lbls_jax.shape}\")\n",
        "print(f\"Test Images Shape: {test_images_jax.shape}, Labels Shape: {test_lbls_jax.shape}\")\n"
      ],
      "metadata": {
        "colab": {
          "base_uri": "https://localhost:8080/"
        },
        "id": "RK_t5lOEO0_r",
        "outputId": "8b9605a1-80e3-4646-ea2f-f9c928df8372"
      },
      "execution_count": 4,
      "outputs": [
        {
          "output_type": "stream",
          "name": "stdout",
          "text": [
            "Downloading data from https://storage.googleapis.com/tensorflow/tf-keras-datasets/mnist.npz\n",
            "\u001b[1m11490434/11490434\u001b[0m \u001b[32m━━━━━━━━━━━━━━━━━━━━\u001b[0m\u001b[37m\u001b[0m \u001b[1m2s\u001b[0m 0us/step\n",
            "Train Images Shape: (60000, 784), Labels Shape: (60000,)\n",
            "Test Images Shape: (10000, 784), Labels Shape: (10000,)\n"
          ]
        }
      ]
    },
    {
      "cell_type": "code",
      "source": [
        "# Vectorized Version of MLP\n",
        "batched_MLP_predict = vmap(MLP_predict, in_axes=(None, 0))\n",
        "\n",
        "# --------------- LOSS FUNCTION & ACCURACY ---------------- #\n",
        "\n",
        "# Loss function: Cross-entropy loss\n",
        "def loss_fn(params, imgs, gt_lbls):\n",
        "    predictions = batched_MLP_predict(params, imgs)\n",
        "    return -jnp.mean(jnp.sum(predictions * gt_lbls, axis=1))\n",
        "\n",
        "# Accuracy function\n",
        "def accuracy(params, dataset_imgs, dataset_lbls):\n",
        "    pred_classes = jnp.argmax(batched_MLP_predict(params, dataset_imgs), axis=1)\n",
        "    return jnp.mean(dataset_lbls == pred_classes)\n",
        "\n",
        "# -------------- OPTIMIZATION (JIT + GRADIENT DESCENT) -------------- #\n",
        "\n",
        "@jit\n",
        "def update(params, imgs, gt_lbls, lr=0.01):\n",
        "    loss, grads = value_and_grad(loss_fn)(params, imgs, gt_lbls)\n",
        "    new_params = jax.tree_map(lambda p, g: p - lr * g, params, grads)\n",
        "    return loss, new_params\n",
        "\n",
        "num_epochs = 5\n",
        "key = jax.random.PRNGKey(0)  # Random Seed\n",
        "MLP_params = init_MLP([784, 512, 256, 10], key)  # Model Initialization\n",
        "\n",
        "for epoch in range(num_epochs):\n",
        "    for cnt, (imgs, lbls) in enumerate(train_dataset):\n",
        "        imgs = jnp.array(imgs.numpy())  # Convert TF Tensor to JAX Array\n",
        "        lbls = jnp.array(lbls.numpy())\n",
        "\n",
        "        gt_labels = jax.nn.one_hot(lbls, 10)  # One-hot encode labels\n",
        "\n",
        "        loss, MLP_params = update(MLP_params, imgs, gt_labels)\n",
        "\n",
        "        if cnt % 50 == 0:\n",
        "            print(f\"Epoch {epoch} Step {cnt} Loss: {loss}\")\n",
        "\n",
        "    train_acc = accuracy(MLP_params, train_images_jax, train_lbls_jax)\n",
        "    test_acc = accuracy(MLP_params, test_images_jax, test_lbls_jax)\n",
        "\n",
        "    print(f\"Epoch {epoch}: Train Acc = {train_acc:.4f}, Test Acc = {test_acc:.4f}\")\n"
      ],
      "metadata": {
        "id": "GXjHJMVJY0w9",
        "colab": {
          "base_uri": "https://localhost:8080/"
        },
        "outputId": "3219ed34-c209-405b-c203-7aa4c6ef416e"
      },
      "execution_count": 6,
      "outputs": [
        {
          "output_type": "stream",
          "name": "stdout",
          "text": [
            "Epoch 0 Step 0 Loss: 2.3777148723602295\n",
            "Epoch 0 Step 50 Loss: 0.740364134311676\n",
            "Epoch 0 Step 100 Loss: 0.17937028408050537\n",
            "Epoch 0 Step 150 Loss: 0.346528023481369\n",
            "Epoch 0 Step 200 Loss: 0.16743624210357666\n",
            "Epoch 0 Step 250 Loss: 0.19705228507518768\n",
            "Epoch 0 Step 300 Loss: 0.16798755526542664\n",
            "Epoch 0 Step 350 Loss: 0.13755151629447937\n",
            "Epoch 0 Step 400 Loss: 0.1477997601032257\n",
            "Epoch 0 Step 450 Loss: 0.15869536995887756\n",
            "Epoch 0: Train Acc = 0.9627, Test Acc = 0.9603\n",
            "Epoch 1 Step 0 Loss: 0.09841696918010712\n",
            "Epoch 1 Step 50 Loss: 0.07641023397445679\n",
            "Epoch 1 Step 100 Loss: 0.105646513402462\n",
            "Epoch 1 Step 150 Loss: 0.16646048426628113\n",
            "Epoch 1 Step 200 Loss: 0.12523914873600006\n",
            "Epoch 1 Step 250 Loss: 0.11378362029790878\n",
            "Epoch 1 Step 300 Loss: 0.13574588298797607\n",
            "Epoch 1 Step 350 Loss: 0.12143296748399734\n",
            "Epoch 1 Step 400 Loss: 0.0341273657977581\n",
            "Epoch 1 Step 450 Loss: 0.0572860911488533\n",
            "Epoch 1: Train Acc = 0.9796, Test Acc = 0.9696\n",
            "Epoch 2 Step 0 Loss: 0.1339586079120636\n",
            "Epoch 2 Step 50 Loss: 0.056366950273513794\n",
            "Epoch 2 Step 100 Loss: 0.08421558141708374\n",
            "Epoch 2 Step 150 Loss: 0.05683434009552002\n",
            "Epoch 2 Step 200 Loss: 0.0690697506070137\n",
            "Epoch 2 Step 250 Loss: 0.09919150173664093\n",
            "Epoch 2 Step 300 Loss: 0.07631227374076843\n",
            "Epoch 2 Step 350 Loss: 0.08839176595211029\n",
            "Epoch 2 Step 400 Loss: 0.10391335189342499\n",
            "Epoch 2 Step 450 Loss: 0.052855078130960464\n",
            "Epoch 2: Train Acc = 0.9867, Test Acc = 0.9746\n",
            "Epoch 3 Step 0 Loss: 0.03711198642849922\n",
            "Epoch 3 Step 50 Loss: 0.017162952572107315\n",
            "Epoch 3 Step 100 Loss: 0.03290244936943054\n",
            "Epoch 3 Step 150 Loss: 0.06423231959342957\n",
            "Epoch 3 Step 200 Loss: 0.037626706063747406\n",
            "Epoch 3 Step 250 Loss: 0.03253256902098656\n",
            "Epoch 3 Step 300 Loss: 0.04629269242286682\n",
            "Epoch 3 Step 350 Loss: 0.07311706244945526\n",
            "Epoch 3 Step 400 Loss: 0.07322216033935547\n",
            "Epoch 3 Step 450 Loss: 0.05614480748772621\n",
            "Epoch 3: Train Acc = 0.9925, Test Acc = 0.9792\n",
            "Epoch 4 Step 0 Loss: 0.024619709700345993\n",
            "Epoch 4 Step 50 Loss: 0.08172685652971268\n",
            "Epoch 4 Step 100 Loss: 0.024837348610162735\n",
            "Epoch 4 Step 150 Loss: 0.007565807551145554\n",
            "Epoch 4 Step 200 Loss: 0.017508111894130707\n",
            "Epoch 4 Step 250 Loss: 0.012763768434524536\n",
            "Epoch 4 Step 300 Loss: 0.01429973915219307\n",
            "Epoch 4 Step 350 Loss: 0.02914063073694706\n",
            "Epoch 4 Step 400 Loss: 0.014452215284109116\n",
            "Epoch 4 Step 450 Loss: 0.009647246450185776\n",
            "Epoch 4: Train Acc = 0.9946, Test Acc = 0.9789\n"
          ]
        }
      ]
    },
    {
      "cell_type": "code",
      "source": [
        "import matplotlib.pyplot as plt\n",
        "\n",
        "# Get one batch from test_dataset\n",
        "test_batch = next(iter(test_dataset))\n",
        "imgs, lbls = test_batch  # Unpack images and labels\n",
        "imgs = jnp.array(imgs.numpy())  # Convert TensorFlow Tensors to JAX arrays\n",
        "lbls = jnp.array(lbls.numpy())\n",
        "\n",
        "# Extract a single image and label\n",
        "img = imgs[0].reshape((28, 28))  # Reshape to MNIST format\n",
        "gt_lbl = lbls[0]\n",
        "\n",
        "# Predict using JAX MLP\n",
        "pred = jnp.argmax(MLP_predict(MLP_params, np.ravel(img)))\n",
        "\n",
        "# Print predictions\n",
        "print('Predicted Label:', pred)\n",
        "print('Ground Truth Label:', gt_lbl)\n",
        "\n",
        "# Show the image\n",
        "plt.imshow(img, cmap='gray')\n",
        "plt.show()"
      ],
      "metadata": {
        "colab": {
          "base_uri": "https://localhost:8080/",
          "height": 466
        },
        "id": "mcH7bkkAShVR",
        "outputId": "a607c985-feeb-4286-93e3-b5aa094b1bd5"
      },
      "execution_count": 9,
      "outputs": [
        {
          "output_type": "stream",
          "name": "stdout",
          "text": [
            "Predicted Label: 7\n",
            "Ground Truth Label: 7\n"
          ]
        },
        {
          "output_type": "display_data",
          "data": {
            "text/plain": [
              "<Figure size 640x480 with 1 Axes>"
            ],
            "image/png": "[encoded data removed]"
          },
          "metadata": {}
        }
      ]
    },
    {
      "cell_type": "code",
      "source": [
        "w = MLP_params[0][0]\n",
        "print(w.shape)\n",
        "\n",
        "w_single = w[500, :].reshape(mnist_img_size)\n",
        "print(w_single.shape)\n",
        "plt.imshow(w_single); plt.show()"
      ],
      "metadata": {
        "colab": {
          "base_uri": "https://localhost:8080/",
          "height": 466
        },
        "id": "ay5q725ZW3fA",
        "outputId": "52104ab4-df17-4ec8-cbc5-cc6cddacbea7"
      },
      "execution_count": 10,
      "outputs": [
        {
          "output_type": "stream",
          "name": "stdout",
          "text": [
            "(512, 784)\n",
            "(28, 28)\n"
          ]
        },
        {
          "output_type": "display_data",
          "data": {
            "text/plain": [
              "<Figure size 640x480 with 1 Axes>"
            ],
            "image/png": "[encoded data removed]"
          },
          "metadata": {}
        }
      ]
    },
    {
      "cell_type": "code",
      "source": [],
      "metadata": {
        "id": "PeLBYGz5Yrjg"
      },
      "execution_count": null,
      "outputs": []
    }
  ]
}